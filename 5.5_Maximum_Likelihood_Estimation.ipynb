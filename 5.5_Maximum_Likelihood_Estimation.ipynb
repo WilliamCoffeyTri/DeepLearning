{
 "cells": [
  {
   "cell_type": "markdown",
   "metadata": {},
   "source": [
    "##### Section 5.5 - Maximum Likelihood Estimation\n",
    "\n",
    "Maximum likelihood estimation takes a distribution of values $\\mathbb{X} = {\\mathbf{x_{1}},...,\\mathbf{x_{i}}}$ drawn independently from a distribution $p_{data}(\\mathbf{x})$ and attempts to retrieve the most probable parameterization of a distribution $p_{model}(\\mathbf{x};\\mathbf{\\theta})$, ($\\theta$), to have generated $\\mathbb{X}$. If the distribution family used for $p_{model}(\\mathbf{x};\\mathbf{\\theta})$ is a close approximate of the distribution family of $p_{data}(\\mathbf{x})$, this most-probable parameterization should produce the best-possible estimate of $p_{data}(\\mathbf{x})$.\n",
    "\n",
    "Intuitively, the formula for this is to simply find the ($\\theta$) which maximizes the overall probability of the distribution.\n",
    "\n",
    "$$\\theta_{ML} = \\displaystyle \\argmax_{\\theta} p_{model}(\\mathbb{X}; \\theta) \n",
    "= \\displaystyle \\argmax_{\\theta}\\prod_{i = 1}^{m}p_{model}(x^{i}; \\theta)$$\n",
    "\n",
    "The product can be simplified to a summation through a few simple properties. Argmax is invariant to scale, as the largest value will be the same regardless of scaling factor. Thus we can freely apply the natural logarithm to the entire term $\\prod_{i = 1}^{m}p_{model}(x^{i}; \\theta) $. By taking advantage of the fact that $ln(a*b) = ln(a) + ln(b)$ we can turn this element into $\\sum_{i = 1}^{m}ln(p_{model}(x^{i}; \\theta))$\n",
    "\n",
    "Again invoking scaling invariance we can attach a term of $\\frac{1}{m}$ to complete the transformation of this term into the expected value of the natural logarithm of our probability function: \n",
    "\n",
    "$$\\theta_{ML} = \\displaystyle \\argmax_{\\theta} \\mathbb{E}_{\\mathbf{x}\\sim\\hat{p}_{data}}(ln(p_{model}(\\mathbf{x}; \\mathbf{\\theta}))$$\n",
    "\n"
   ]
  },
  {
   "cell_type": "markdown",
   "metadata": {},
   "source": []
  }
 ],
 "metadata": {
  "language_info": {
   "name": "python"
  }
 },
 "nbformat": 4,
 "nbformat_minor": 2
}
